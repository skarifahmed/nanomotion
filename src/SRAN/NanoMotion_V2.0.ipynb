{
 "cells": [
  {
   "cell_type": "code",
   "execution_count": 1,
   "metadata": {},
   "outputs": [],
   "source": [
    "from util import ReadDatabase"
   ]
  },
  {
   "cell_type": "code",
   "execution_count": 2,
   "metadata": {},
   "outputs": [],
   "source": [
    "#Dataset directory for training\n",
    "DIR=\"dataset\\sim2\"\n",
    "width=height=64\n",
    "X, y=ReadDatabase(DIR,width,height)"
   ]
  },
  {
   "cell_type": "code",
   "execution_count": 3,
   "metadata": {},
   "outputs": [
    {
     "name": "stderr",
     "output_type": "stream",
     "text": [
      "Using TensorFlow backend.\n"
     ]
    }
   ],
   "source": [
    "#Train and Test distribution\n",
    "from keras.utils import to_categorical\n",
    "y=to_categorical(y)\n",
    "from sklearn.model_selection import train_test_split\n",
    "train_x, val_x, train_y, val_y=train_test_split(X, y, test_size=0.3, random_state=13)"
   ]
  },
  {
   "cell_type": "code",
   "execution_count": 4,
   "metadata": {},
   "outputs": [],
   "source": [
    "from keras.preprocessing.image import ImageDataGenerator\n",
    "from keras.callbacks import ReduceLROnPlateau, EarlyStopping\n",
    "from models import AttentionResNetNanoMotion\n",
    "# define generators for training and validation data\n",
    "train_datagen = ImageDataGenerator(\n",
    "    featurewise_center=True,\n",
    "    featurewise_std_normalization=True,\n",
    "    rotation_range=20,\n",
    "    width_shift_range=0.2,\n",
    "    height_shift_range=0.2,\n",
    "    zoom_range=0.2,\n",
    "    horizontal_flip=True)\n",
    "\n",
    "val_datagen = ImageDataGenerator(\n",
    "    featurewise_center=True,\n",
    "    featurewise_std_normalization=True)\n",
    "\n",
    "# compute quantities required for featurewise normalization\n",
    "# (std, mean, and principal components if ZCA whitening is applied)\n",
    "train_datagen.fit(train_x)\n",
    "val_datagen.fit(val_x)"
   ]
  },
  {
   "cell_type": "code",
   "execution_count": 5,
   "metadata": {},
   "outputs": [
    {
     "name": "stderr",
     "output_type": "stream",
     "text": [
      "D:\\Anaconda3\\envs\\nanoscopy\\lib\\site-packages\\keras\\callbacks.py:928: UserWarning: `epsilon` argument is deprecated and will be removed, use `min_delta` insted.\n",
      "  warnings.warn('`epsilon` argument is deprecated and '\n"
     ]
    }
   ],
   "source": [
    "import keras\n",
    "from keras.callbacks import ModelCheckpoint\n",
    "# build a model\n",
    "model = AttentionResNetNanoMotion(n_classes=5,dropout=0.2)\n",
    "# prepare usefull callbacks\n",
    "lr_reducer = ReduceLROnPlateau(monitor='val_acc', factor=0.2, patience=7, min_lr=10e-7, epsilon=0.01, verbose=1)\n",
    "early_stopper = EarlyStopping(monitor='val_acc', min_delta=0, patience=15, verbose=1)\n",
    "checkpointer = ModelCheckpoint(filepath=\"best_weights.hdf5\", \n",
    "                               monitor = 'val_acc',\n",
    "                               verbose=1, \n",
    "                               save_best_only=True)\n",
    "callbacks= [lr_reducer, early_stopper, checkpointer]\n",
    "# define loss, metrics, optimizer\n",
    "model.compile(keras.optimizers.Adam(lr=0.0001), loss='categorical_crossentropy', metrics=['accuracy'])"
   ]
  },
  {
   "cell_type": "code",
   "execution_count": 106,
   "metadata": {},
   "outputs": [
    {
     "name": "stdout",
     "output_type": "stream",
     "text": [
      "Epoch 1/200\n",
      "474/474 [==============================] - 107s 226ms/step - loss: 2.2712 - acc: 0.6475 - val_loss: 0.8998 - val_acc: 0.7722\n",
      "\n",
      "Epoch 00001: val_acc improved from -inf to 0.77217, saving model to best_weights.hdf5\n",
      "Epoch 2/200\n",
      "474/474 [==============================] - 74s 157ms/step - loss: 0.8830 - acc: 0.7234 - val_loss: 0.8248 - val_acc: 0.7688\n",
      "\n",
      "Epoch 00002: val_acc did not improve from 0.77217\n",
      "Epoch 3/200\n",
      "474/474 [==============================] - 74s 157ms/step - loss: 0.7631 - acc: 0.7491 - val_loss: 0.4460 - val_acc: 0.8395\n",
      "\n",
      "Epoch 00003: val_acc improved from 0.77217 to 0.83951, saving model to best_weights.hdf5\n",
      "Epoch 4/200\n",
      "474/474 [==============================] - 74s 157ms/step - loss: 0.7067 - acc: 0.7571 - val_loss: 0.5487 - val_acc: 0.8318\n",
      "\n",
      "Epoch 00004: val_acc did not improve from 0.83951\n",
      "Epoch 5/200\n",
      "474/474 [==============================] - 75s 158ms/step - loss: 0.6769 - acc: 0.7739 - val_loss: 0.5750 - val_acc: 0.8241\n",
      "\n",
      "Epoch 00005: val_acc did not improve from 0.83951\n",
      "Epoch 6/200\n",
      "474/474 [==============================] - 74s 157ms/step - loss: 0.6664 - acc: 0.7794 - val_loss: 0.4391 - val_acc: 0.8340\n",
      "\n",
      "Epoch 00006: val_acc did not improve from 0.83951\n",
      "Epoch 7/200\n",
      "474/474 [==============================] - 74s 157ms/step - loss: 0.6331 - acc: 0.7890 - val_loss: 0.4600 - val_acc: 0.8448\n",
      "\n",
      "Epoch 00007: val_acc improved from 0.83951 to 0.84475, saving model to best_weights.hdf5\n",
      "Epoch 8/200\n",
      "474/474 [==============================] - 74s 157ms/step - loss: 0.5787 - acc: 0.7974 - val_loss: 0.6097 - val_acc: 0.7895\n",
      "\n",
      "Epoch 00008: val_acc did not improve from 0.84475\n",
      "Epoch 9/200\n",
      "474/474 [==============================] - 74s 157ms/step - loss: 0.6005 - acc: 0.7976 - val_loss: 0.4603 - val_acc: 0.8358\n",
      "\n",
      "Epoch 00009: val_acc did not improve from 0.84475\n",
      "Epoch 10/200\n",
      "474/474 [==============================] - 74s 156ms/step - loss: 0.5618 - acc: 0.8069 - val_loss: 0.5671 - val_acc: 0.8179\n",
      "\n",
      "Epoch 00010: ReduceLROnPlateau reducing learning rate to 1.9999999494757503e-05.\n",
      "\n",
      "Epoch 00010: val_acc did not improve from 0.84475\n",
      "Epoch 11/200\n",
      "474/474 [==============================] - 74s 156ms/step - loss: 0.4385 - acc: 0.8406 - val_loss: 0.3680 - val_acc: 0.8676\n",
      "\n",
      "Epoch 00011: val_acc improved from 0.84475 to 0.86759, saving model to best_weights.hdf5\n",
      "Epoch 12/200\n",
      "474/474 [==============================] - 75s 158ms/step - loss: 0.4229 - acc: 0.8448 - val_loss: 0.3790 - val_acc: 0.8577\n",
      "\n",
      "Epoch 00012: val_acc did not improve from 0.86759\n",
      "Epoch 13/200\n",
      "474/474 [==============================] - 75s 158ms/step - loss: 0.4346 - acc: 0.8413 - val_loss: 0.4018 - val_acc: 0.8556\n",
      "\n",
      "Epoch 00013: val_acc did not improve from 0.86759\n",
      "Epoch 14/200\n",
      "474/474 [==============================] - 75s 157ms/step - loss: 0.4030 - acc: 0.8539 - val_loss: 0.3809 - val_acc: 0.8648\n",
      "\n",
      "Epoch 00014: val_acc did not improve from 0.86759\n",
      "Epoch 15/200\n",
      "474/474 [==============================] - 75s 157ms/step - loss: 0.4068 - acc: 0.8496 - val_loss: 0.3583 - val_acc: 0.8648\n",
      "\n",
      "Epoch 00015: val_acc did not improve from 0.86759\n",
      "Epoch 16/200\n",
      "474/474 [==============================] - 75s 158ms/step - loss: 0.4020 - acc: 0.8520 - val_loss: 0.4032 - val_acc: 0.8593\n",
      "\n",
      "Epoch 00016: val_acc did not improve from 0.86759\n",
      "Epoch 17/200\n",
      "474/474 [==============================] - 75s 158ms/step - loss: 0.4015 - acc: 0.8510 - val_loss: 0.4041 - val_acc: 0.8577\n",
      "\n",
      "Epoch 00017: val_acc did not improve from 0.86759\n",
      "Epoch 18/200\n",
      "474/474 [==============================] - 76s 159ms/step - loss: 0.3872 - acc: 0.8539 - val_loss: 0.3808 - val_acc: 0.8660\n",
      "\n",
      "Epoch 00018: ReduceLROnPlateau reducing learning rate to 3.999999898951501e-06.\n",
      "\n",
      "Epoch 00018: val_acc did not improve from 0.86759\n",
      "Epoch 19/200\n",
      "474/474 [==============================] - 75s 158ms/step - loss: 0.3744 - acc: 0.8602 - val_loss: 0.3608 - val_acc: 0.8691\n",
      "\n",
      "Epoch 00019: val_acc improved from 0.86759 to 0.86914, saving model to best_weights.hdf5\n",
      "Epoch 20/200\n",
      "474/474 [==============================] - 74s 157ms/step - loss: 0.3616 - acc: 0.8657 - val_loss: 0.3421 - val_acc: 0.8741\n",
      "\n",
      "Epoch 00020: val_acc improved from 0.86914 to 0.87407, saving model to best_weights.hdf5\n",
      "Epoch 21/200\n",
      "474/474 [==============================] - 74s 157ms/step - loss: 0.3604 - acc: 0.8651 - val_loss: 0.3727 - val_acc: 0.8694\n",
      "\n",
      "Epoch 00021: val_acc did not improve from 0.87407\n",
      "Epoch 22/200\n",
      "474/474 [==============================] - 75s 158ms/step - loss: 0.3592 - acc: 0.8632 - val_loss: 0.3534 - val_acc: 0.8704\n",
      "\n",
      "Epoch 00022: val_acc did not improve from 0.87407\n",
      "Epoch 23/200\n",
      "474/474 [==============================] - 75s 158ms/step - loss: 0.3652 - acc: 0.8629 - val_loss: 0.3615 - val_acc: 0.8657\n",
      "\n",
      "Epoch 00023: val_acc did not improve from 0.87407\n",
      "Epoch 24/200\n",
      "474/474 [==============================] - 75s 158ms/step - loss: 0.3602 - acc: 0.8616 - val_loss: 0.3491 - val_acc: 0.8685\n",
      "\n",
      "Epoch 00024: val_acc did not improve from 0.87407\n",
      "Epoch 25/200\n",
      "474/474 [==============================] - 75s 158ms/step - loss: 0.3629 - acc: 0.8617 - val_loss: 0.3624 - val_acc: 0.8691\n",
      "\n",
      "Epoch 00025: ReduceLROnPlateau reducing learning rate to 1e-06.\n",
      "\n",
      "Epoch 00025: val_acc did not improve from 0.87407\n",
      "Epoch 26/200\n",
      "474/474 [==============================] - 75s 158ms/step - loss: 0.3561 - acc: 0.8645 - val_loss: 0.3564 - val_acc: 0.8605\n",
      "\n",
      "Epoch 00026: val_acc did not improve from 0.87407\n",
      "Epoch 27/200\n",
      "474/474 [==============================] - 74s 157ms/step - loss: 0.3519 - acc: 0.8661 - val_loss: 0.3493 - val_acc: 0.8710\n",
      "\n",
      "Epoch 00027: val_acc did not improve from 0.87407\n",
      "Epoch 28/200\n",
      "474/474 [==============================] - 75s 159ms/step - loss: 0.3575 - acc: 0.8668 - val_loss: 0.3522 - val_acc: 0.8664\n",
      "\n",
      "Epoch 00028: val_acc did not improve from 0.87407\n",
      "Epoch 29/200\n",
      "474/474 [==============================] - 75s 158ms/step - loss: 0.3526 - acc: 0.8660 - val_loss: 0.3501 - val_acc: 0.8710\n",
      "\n",
      "Epoch 00029: val_acc did not improve from 0.87407\n",
      "Epoch 30/200\n",
      "474/474 [==============================] - 75s 158ms/step - loss: 0.3579 - acc: 0.8658 - val_loss: 0.3520 - val_acc: 0.8664\n",
      "\n",
      "Epoch 00030: val_acc did not improve from 0.87407\n",
      "Epoch 31/200\n",
      "474/474 [==============================] - 75s 158ms/step - loss: 0.3545 - acc: 0.8667 - val_loss: 0.3516 - val_acc: 0.8704\n",
      "\n",
      "Epoch 00031: val_acc did not improve from 0.87407\n",
      "Epoch 32/200\n",
      "474/474 [==============================] - 75s 158ms/step - loss: 0.3573 - acc: 0.8637 - val_loss: 0.3425 - val_acc: 0.8704\n",
      "\n",
      "Epoch 00032: val_acc did not improve from 0.87407\n",
      "Epoch 33/200\n",
      "474/474 [==============================] - 75s 158ms/step - loss: 0.3474 - acc: 0.8713 - val_loss: 0.3650 - val_acc: 0.8679\n",
      "\n",
      "Epoch 00033: val_acc did not improve from 0.87407\n",
      "Epoch 34/200\n",
      "474/474 [==============================] - 75s 158ms/step - loss: 0.3503 - acc: 0.8681 - val_loss: 0.3517 - val_acc: 0.8710\n",
      "\n",
      "Epoch 00034: val_acc did not improve from 0.87407\n",
      "Epoch 35/200\n",
      "474/474 [==============================] - 74s 156ms/step - loss: 0.3509 - acc: 0.8632 - val_loss: 0.3447 - val_acc: 0.8719\n",
      "\n",
      "Epoch 00035: val_acc did not improve from 0.87407\n",
      "Epoch 00035: early stopping\n"
     ]
    }
   ],
   "source": [
    "# fits the model on batches with real-time data augmentation\n",
    "batch_size = 16\n",
    "\n",
    "history=model.fit_generator(train_datagen.flow(train_x, train_y, batch_size=batch_size),\n",
    "                    steps_per_epoch=len(train_x)//batch_size, epochs=200,\n",
    "                    validation_data=val_datagen.flow(val_x, val_y, batch_size=batch_size), \n",
    "                    validation_steps=len(val_x)//batch_size,\n",
    "                    callbacks=callbacks, initial_epoch=0)"
   ]
  },
  {
   "cell_type": "code",
   "execution_count": 107,
   "metadata": {},
   "outputs": [
    {
     "data": {
      "image/png": "[encoded data removed]",
      "text/plain": [
       "<Figure size 432x288 with 1 Axes>"
      ]
     },
     "metadata": {
      "needs_background": "light"
     },
     "output_type": "display_data"
    },
    {
     "data": {
      "image/png": "[encoded data removed]",
      "text/plain": [
       "<Figure size 432x288 with 1 Axes>"
      ]
     },
     "metadata": {
      "needs_background": "light"
     },
     "output_type": "display_data"
    }
   ],
   "source": [
    "import matplotlib.pyplot as plt\n",
    "%matplotlib inline\n",
    "acc = history.history['acc']\n",
    "val_acc = history.history['val_acc']\n",
    "loss = history.history['loss']\n",
    "val_loss = history.history['val_loss']\n",
    "epochs = range(1, len(acc) + 1)\n",
    "plt.plot(epochs, acc, 'r', label='Training acc')\n",
    "plt.plot(epochs, val_acc, 'b', label='Validation acc')\n",
    "plt.title('Training and validation accuracy')\n",
    "plt.legend()\n",
    "plt.figure()\n",
    "plt.plot(epochs, loss, 'r', label='Training loss')\n",
    "plt.plot(epochs, val_loss, 'b', label='Validation loss')\n",
    "plt.title('Training and validation loss')\n",
    "plt.legend()\n",
    "plt.show()"
   ]
  },
  {
   "cell_type": "code",
   "execution_count": null,
   "metadata": {},
   "outputs": [],
   "source": []
  }
 ],
 "metadata": {
  "kernelspec": {
   "display_name": "Python 3",
   "language": "python",
   "name": "python3"
  },
  "language_info": {
   "codemirror_mode": {
    "name": "ipython",
    "version": 3
   },
   "file_extension": ".py",
   "mimetype": "text/x-python",
   "name": "python",
   "nbconvert_exporter": "python",
   "pygments_lexer": "ipython3",
   "version": "3.6.8"
  }
 },
 "nbformat": 4,
 "nbformat_minor": 2
}
